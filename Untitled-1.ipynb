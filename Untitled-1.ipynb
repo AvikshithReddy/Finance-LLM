{
 "cells": [
  {
   "cell_type": "code",
   "execution_count": 1,
   "id": "b4dd1710",
   "metadata": {},
   "outputs": [
    {
     "name": "stdout",
     "output_type": "stream",
     "text": [
      "Requirement already satisfied: requests in /Users/avikshithreddy/Documents/python learning/.conda/lib/python3.12/site-packages (2.32.3)\n",
      "Requirement already satisfied: beautifulsoup4 in /Users/avikshithreddy/Documents/python learning/.conda/lib/python3.12/site-packages (4.13.4)\n",
      "Requirement already satisfied: pandas in /Users/avikshithreddy/Documents/python learning/.conda/lib/python3.12/site-packages (2.2.3)\n",
      "Requirement already satisfied: unstructured in /Users/avikshithreddy/Documents/python learning/.conda/lib/python3.12/site-packages (0.17.2)\n",
      "Requirement already satisfied: pdfminer.six in /Users/avikshithreddy/Documents/python learning/.conda/lib/python3.12/site-packages (20250506)\n",
      "Requirement already satisfied: snowflake-connector-python in /Users/avikshithreddy/Documents/python learning/.conda/lib/python3.12/site-packages (3.15.0)\n",
      "Requirement already satisfied: charset-normalizer<4,>=2 in /Users/avikshithreddy/Documents/python learning/.conda/lib/python3.12/site-packages (from requests) (3.4.1)\n",
      "Requirement already satisfied: idna<4,>=2.5 in /Users/avikshithreddy/Documents/python learning/.conda/lib/python3.12/site-packages (from requests) (3.10)\n",
      "Requirement already satisfied: urllib3<3,>=1.21.1 in /Users/avikshithreddy/Documents/python learning/.conda/lib/python3.12/site-packages (from requests) (2.4.0)\n",
      "Requirement already satisfied: certifi>=2017.4.17 in /Users/avikshithreddy/Documents/python learning/.conda/lib/python3.12/site-packages (from requests) (2025.4.26)\n",
      "Requirement already satisfied: soupsieve>1.2 in /Users/avikshithreddy/Documents/python learning/.conda/lib/python3.12/site-packages (from beautifulsoup4) (2.7)\n",
      "Requirement already satisfied: typing-extensions>=4.0.0 in /Users/avikshithreddy/Documents/python learning/.conda/lib/python3.12/site-packages (from beautifulsoup4) (4.13.2)\n",
      "Requirement already satisfied: numpy>=1.26.0 in /Users/avikshithreddy/Documents/python learning/.conda/lib/python3.12/site-packages (from pandas) (1.26.4)\n",
      "Requirement already satisfied: python-dateutil>=2.8.2 in /Users/avikshithreddy/Documents/python learning/.conda/lib/python3.12/site-packages (from pandas) (2.9.0.post0)\n",
      "Requirement already satisfied: pytz>=2020.1 in /Users/avikshithreddy/Documents/python learning/.conda/lib/python3.12/site-packages (from pandas) (2025.1)\n",
      "Requirement already satisfied: tzdata>=2022.7 in /Users/avikshithreddy/Documents/python learning/.conda/lib/python3.12/site-packages (from pandas) (2025.1)\n",
      "Requirement already satisfied: chardet in /Users/avikshithreddy/Documents/python learning/.conda/lib/python3.12/site-packages (from unstructured) (5.2.0)\n",
      "Requirement already satisfied: filetype in /Users/avikshithreddy/Documents/python learning/.conda/lib/python3.12/site-packages (from unstructured) (1.2.0)\n",
      "Requirement already satisfied: python-magic in /Users/avikshithreddy/Documents/python learning/.conda/lib/python3.12/site-packages (from unstructured) (0.4.27)\n",
      "Requirement already satisfied: lxml in /Users/avikshithreddy/Documents/python learning/.conda/lib/python3.12/site-packages (from unstructured) (5.4.0)\n",
      "Requirement already satisfied: nltk in /Users/avikshithreddy/Documents/python learning/.conda/lib/python3.12/site-packages (from unstructured) (3.9.1)\n",
      "Requirement already satisfied: emoji in /Users/avikshithreddy/Documents/python learning/.conda/lib/python3.12/site-packages (from unstructured) (2.14.1)\n",
      "Requirement already satisfied: dataclasses-json in /Users/avikshithreddy/Documents/python learning/.conda/lib/python3.12/site-packages (from unstructured) (0.6.7)\n",
      "Requirement already satisfied: python-iso639 in /Users/avikshithreddy/Documents/python learning/.conda/lib/python3.12/site-packages (from unstructured) (2025.2.18)\n",
      "Requirement already satisfied: langdetect in /Users/avikshithreddy/Documents/python learning/.conda/lib/python3.12/site-packages (from unstructured) (1.0.9)\n",
      "Requirement already satisfied: rapidfuzz in /Users/avikshithreddy/Documents/python learning/.conda/lib/python3.12/site-packages (from unstructured) (3.13.0)\n",
      "Requirement already satisfied: backoff in /Users/avikshithreddy/Documents/python learning/.conda/lib/python3.12/site-packages (from unstructured) (2.2.1)\n",
      "Requirement already satisfied: unstructured-client in /Users/avikshithreddy/Documents/python learning/.conda/lib/python3.12/site-packages (from unstructured) (0.36.0)\n",
      "Requirement already satisfied: wrapt in /Users/avikshithreddy/Documents/python learning/.conda/lib/python3.12/site-packages (from unstructured) (1.17.2)\n",
      "Requirement already satisfied: tqdm in /Users/avikshithreddy/Documents/python learning/.conda/lib/python3.12/site-packages (from unstructured) (4.67.1)\n",
      "Requirement already satisfied: psutil in /Users/avikshithreddy/Documents/python learning/.conda/lib/python3.12/site-packages (from unstructured) (5.9.0)\n",
      "Requirement already satisfied: python-oxmsg in /Users/avikshithreddy/Documents/python learning/.conda/lib/python3.12/site-packages (from unstructured) (0.0.2)\n",
      "Requirement already satisfied: html5lib in /Users/avikshithreddy/Documents/python learning/.conda/lib/python3.12/site-packages (from unstructured) (1.1)\n",
      "Requirement already satisfied: cryptography>=36.0.0 in /Users/avikshithreddy/Documents/python learning/.conda/lib/python3.12/site-packages (from pdfminer.six) (45.0.3)\n",
      "Requirement already satisfied: asn1crypto<2.0.0,>0.24.0 in /Users/avikshithreddy/Documents/python learning/.conda/lib/python3.12/site-packages (from snowflake-connector-python) (1.5.1)\n",
      "Requirement already satisfied: boto3>=1.24 in /Users/avikshithreddy/Documents/python learning/.conda/lib/python3.12/site-packages (from snowflake-connector-python) (1.38.27)\n",
      "Requirement already satisfied: botocore>=1.24 in /Users/avikshithreddy/Documents/python learning/.conda/lib/python3.12/site-packages (from snowflake-connector-python) (1.38.27)\n",
      "Requirement already satisfied: cffi<2.0.0,>=1.9 in /Users/avikshithreddy/Documents/python learning/.conda/lib/python3.12/site-packages (from snowflake-connector-python) (1.17.1)\n",
      "Requirement already satisfied: pyOpenSSL<26.0.0,>=22.0.0 in /Users/avikshithreddy/Documents/python learning/.conda/lib/python3.12/site-packages (from snowflake-connector-python) (25.1.0)\n",
      "Requirement already satisfied: pyjwt<3.0.0 in /Users/avikshithreddy/Documents/python learning/.conda/lib/python3.12/site-packages (from snowflake-connector-python) (2.10.1)\n",
      "Requirement already satisfied: packaging in /Users/avikshithreddy/Documents/python learning/.conda/lib/python3.12/site-packages (from snowflake-connector-python) (24.2)\n",
      "Requirement already satisfied: filelock<4,>=3.5 in /Users/avikshithreddy/Documents/python learning/.conda/lib/python3.12/site-packages (from snowflake-connector-python) (3.18.0)\n",
      "Requirement already satisfied: sortedcontainers>=2.4.0 in /Users/avikshithreddy/Documents/python learning/.conda/lib/python3.12/site-packages (from snowflake-connector-python) (2.4.0)\n",
      "Requirement already satisfied: platformdirs<5.0.0,>=2.6.0 in /Users/avikshithreddy/Documents/python learning/.conda/lib/python3.12/site-packages (from snowflake-connector-python) (3.10.0)\n",
      "Requirement already satisfied: tomlkit in /Users/avikshithreddy/Documents/python learning/.conda/lib/python3.12/site-packages (from snowflake-connector-python) (0.13.2)\n",
      "Requirement already satisfied: jmespath<2.0.0,>=0.7.1 in /Users/avikshithreddy/Documents/python learning/.conda/lib/python3.12/site-packages (from boto3>=1.24->snowflake-connector-python) (1.0.1)\n",
      "Requirement already satisfied: s3transfer<0.14.0,>=0.13.0 in /Users/avikshithreddy/Documents/python learning/.conda/lib/python3.12/site-packages (from boto3>=1.24->snowflake-connector-python) (0.13.0)\n",
      "Requirement already satisfied: pycparser in /Users/avikshithreddy/Documents/python learning/.conda/lib/python3.12/site-packages (from cffi<2.0.0,>=1.9->snowflake-connector-python) (2.22)\n",
      "Requirement already satisfied: six>=1.5 in /Users/avikshithreddy/Documents/python learning/.conda/lib/python3.12/site-packages (from python-dateutil>=2.8.2->pandas) (1.16.0)\n",
      "Requirement already satisfied: marshmallow<4.0.0,>=3.18.0 in /Users/avikshithreddy/Documents/python learning/.conda/lib/python3.12/site-packages (from dataclasses-json->unstructured) (3.26.1)\n",
      "Requirement already satisfied: typing-inspect<1,>=0.4.0 in /Users/avikshithreddy/Documents/python learning/.conda/lib/python3.12/site-packages (from dataclasses-json->unstructured) (0.9.0)\n",
      "Requirement already satisfied: webencodings in /Users/avikshithreddy/Documents/python learning/.conda/lib/python3.12/site-packages (from html5lib->unstructured) (0.5.1)\n",
      "Requirement already satisfied: click in /Users/avikshithreddy/Documents/python learning/.conda/lib/python3.12/site-packages (from nltk->unstructured) (8.1.8)\n",
      "Requirement already satisfied: joblib in /Users/avikshithreddy/Documents/python learning/.conda/lib/python3.12/site-packages (from nltk->unstructured) (1.4.2)\n",
      "Requirement already satisfied: regex>=2021.8.3 in /Users/avikshithreddy/Documents/python learning/.conda/lib/python3.12/site-packages (from nltk->unstructured) (2024.11.6)\n",
      "Requirement already satisfied: olefile in /Users/avikshithreddy/Documents/python learning/.conda/lib/python3.12/site-packages (from python-oxmsg->unstructured) (0.47)\n",
      "Requirement already satisfied: aiofiles>=24.1.0 in /Users/avikshithreddy/Documents/python learning/.conda/lib/python3.12/site-packages (from unstructured-client->unstructured) (24.1.0)\n",
      "Requirement already satisfied: httpx>=0.27.0 in /Users/avikshithreddy/Documents/python learning/.conda/lib/python3.12/site-packages (from unstructured-client->unstructured) (0.28.1)\n",
      "Requirement already satisfied: nest-asyncio>=1.6.0 in /Users/avikshithreddy/Documents/python learning/.conda/lib/python3.12/site-packages (from unstructured-client->unstructured) (1.6.0)\n",
      "Requirement already satisfied: pydantic>=2.11.2 in /Users/avikshithreddy/Documents/python learning/.conda/lib/python3.12/site-packages (from unstructured-client->unstructured) (2.11.4)\n",
      "Requirement already satisfied: pypdf>=4.0 in /Users/avikshithreddy/Documents/python learning/.conda/lib/python3.12/site-packages (from unstructured-client->unstructured) (5.6.0)\n",
      "Requirement already satisfied: requests-toolbelt>=1.0.0 in /Users/avikshithreddy/Documents/python learning/.conda/lib/python3.12/site-packages (from unstructured-client->unstructured) (1.0.0)\n",
      "Requirement already satisfied: anyio in /Users/avikshithreddy/Documents/python learning/.conda/lib/python3.12/site-packages (from httpx>=0.27.0->unstructured-client->unstructured) (4.9.0)\n",
      "Requirement already satisfied: httpcore==1.* in /Users/avikshithreddy/Documents/python learning/.conda/lib/python3.12/site-packages (from httpx>=0.27.0->unstructured-client->unstructured) (1.0.9)\n",
      "Requirement already satisfied: h11>=0.16 in /Users/avikshithreddy/Documents/python learning/.conda/lib/python3.12/site-packages (from httpcore==1.*->httpx>=0.27.0->unstructured-client->unstructured) (0.16.0)\n",
      "Requirement already satisfied: annotated-types>=0.6.0 in /Users/avikshithreddy/Documents/python learning/.conda/lib/python3.12/site-packages (from pydantic>=2.11.2->unstructured-client->unstructured) (0.7.0)\n",
      "Requirement already satisfied: pydantic-core==2.33.2 in /Users/avikshithreddy/Documents/python learning/.conda/lib/python3.12/site-packages (from pydantic>=2.11.2->unstructured-client->unstructured) (2.33.2)\n",
      "Requirement already satisfied: typing-inspection>=0.4.0 in /Users/avikshithreddy/Documents/python learning/.conda/lib/python3.12/site-packages (from pydantic>=2.11.2->unstructured-client->unstructured) (0.4.0)\n",
      "Requirement already satisfied: mypy-extensions>=0.3.0 in /Users/avikshithreddy/Documents/python learning/.conda/lib/python3.12/site-packages (from typing-inspect<1,>=0.4.0->dataclasses-json->unstructured) (1.1.0)\n",
      "Requirement already satisfied: sniffio>=1.1 in /Users/avikshithreddy/Documents/python learning/.conda/lib/python3.12/site-packages (from anyio->httpx>=0.27.0->unstructured-client->unstructured) (1.3.1)\n",
      "Note: you may need to restart the kernel to use updated packages.\n"
     ]
    }
   ],
   "source": [
    "pip install requests beautifulsoup4 pandas unstructured pdfminer.six snowflake-connector-python\n"
   ]
  },
  {
   "cell_type": "code",
   "execution_count": 2,
   "id": "b66f9d06",
   "metadata": {},
   "outputs": [
    {
     "name": "stdout",
     "output_type": "stream",
     "text": [
      "Requirement already satisfied: selenium in /Users/avikshithreddy/Documents/python learning/.conda/lib/python3.12/site-packages (4.33.0)\n",
      "Requirement already satisfied: urllib3~=2.4.0 in /Users/avikshithreddy/Documents/python learning/.conda/lib/python3.12/site-packages (from urllib3[socks]~=2.4.0->selenium) (2.4.0)\n",
      "Requirement already satisfied: trio~=0.30.0 in /Users/avikshithreddy/Documents/python learning/.conda/lib/python3.12/site-packages (from selenium) (0.30.0)\n",
      "Requirement already satisfied: trio-websocket~=0.12.2 in /Users/avikshithreddy/Documents/python learning/.conda/lib/python3.12/site-packages (from selenium) (0.12.2)\n",
      "Requirement already satisfied: certifi>=2025.4.26 in /Users/avikshithreddy/Documents/python learning/.conda/lib/python3.12/site-packages (from selenium) (2025.4.26)\n",
      "Requirement already satisfied: typing_extensions~=4.13.2 in /Users/avikshithreddy/Documents/python learning/.conda/lib/python3.12/site-packages (from selenium) (4.13.2)\n",
      "Requirement already satisfied: websocket-client~=1.8.0 in /Users/avikshithreddy/Documents/python learning/.conda/lib/python3.12/site-packages (from selenium) (1.8.0)\n",
      "Requirement already satisfied: attrs>=23.2.0 in /Users/avikshithreddy/Documents/python learning/.conda/lib/python3.12/site-packages (from trio~=0.30.0->selenium) (25.3.0)\n",
      "Requirement already satisfied: sortedcontainers in /Users/avikshithreddy/Documents/python learning/.conda/lib/python3.12/site-packages (from trio~=0.30.0->selenium) (2.4.0)\n",
      "Requirement already satisfied: idna in /Users/avikshithreddy/Documents/python learning/.conda/lib/python3.12/site-packages (from trio~=0.30.0->selenium) (3.10)\n",
      "Requirement already satisfied: outcome in /Users/avikshithreddy/Documents/python learning/.conda/lib/python3.12/site-packages (from trio~=0.30.0->selenium) (1.3.0.post0)\n",
      "Requirement already satisfied: sniffio>=1.3.0 in /Users/avikshithreddy/Documents/python learning/.conda/lib/python3.12/site-packages (from trio~=0.30.0->selenium) (1.3.1)\n",
      "Requirement already satisfied: wsproto>=0.14 in /Users/avikshithreddy/Documents/python learning/.conda/lib/python3.12/site-packages (from trio-websocket~=0.12.2->selenium) (1.2.0)\n",
      "Requirement already satisfied: pysocks!=1.5.7,<2.0,>=1.5.6 in /Users/avikshithreddy/Documents/python learning/.conda/lib/python3.12/site-packages (from urllib3[socks]~=2.4.0->selenium) (1.7.1)\n",
      "Requirement already satisfied: h11<1,>=0.9.0 in /Users/avikshithreddy/Documents/python learning/.conda/lib/python3.12/site-packages (from wsproto>=0.14->trio-websocket~=0.12.2->selenium) (0.16.0)\n",
      "Note: you may need to restart the kernel to use updated packages.\n"
     ]
    }
   ],
   "source": [
    "pip install selenium\n"
   ]
  },
  {
   "cell_type": "code",
   "execution_count": 3,
   "id": "c6f287ea",
   "metadata": {},
   "outputs": [
    {
     "name": "stdout",
     "output_type": "stream",
     "text": [
      "✅ Successfully fetched Tesla's submission data\n",
      "Tesla latest 10-K accession number: 0001628280-25-003063\n"
     ]
    }
   ],
   "source": [
    "import requests\n",
    "\n",
    "CIK = '0001318605'\n",
    "url = f\"https://data.sec.gov/submissions/CIK{CIK}.json\"\n",
    "\n",
    "headers = {\n",
    "    \"User-Agent\": \"Avikshith Yelakonda avikshith@example.com\",  # use your actual email\n",
    "    \"Accept-Encoding\": \"gzip, deflate\",\n",
    "    \"Host\": \"data.sec.gov\"\n",
    "}\n",
    "\n",
    "response = requests.get(url, headers=headers)\n",
    "\n",
    "if response.status_code == 200:\n",
    "    try:\n",
    "        data = response.json()\n",
    "        print(\"✅ Successfully fetched Tesla's submission data\")\n",
    "\n",
    "        # Print latest 10-K accession number\n",
    "        filings = data['filings']['recent']\n",
    "        for i, form_type in enumerate(filings['form']):\n",
    "            if form_type == \"10-K\":\n",
    "                accession_number = filings['accessionNumber'][i]\n",
    "                print(\"Tesla latest 10-K accession number:\", accession_number)\n",
    "                break\n",
    "\n",
    "    except ValueError:\n",
    "        print(\"❌ JSON decoding error — response is not JSON:\")\n",
    "        print(response.text[:500])\n",
    "else:\n",
    "    print(f\"❌ HTTP Error: {response.status_code} — URL failed:\")\n",
    "    print(url)\n",
    "\n"
   ]
  },
  {
   "cell_type": "code",
   "execution_count": 4,
   "id": "772ab542",
   "metadata": {},
   "outputs": [],
   "source": [
    "accession_number = '0001628280-25-003063'\n",
    "accession_nodash = accession_number.replace('-', '')  # → 000162828025003063\n"
   ]
  },
  {
   "cell_type": "code",
   "execution_count": 5,
   "id": "b63de389",
   "metadata": {},
   "outputs": [],
   "source": [
    "CIK = '0001318605'\n",
    "doc_index_url = f\"https://www.sec.gov/Archives/edgar/data/{int(CIK)}/{accession_nodash}/index.json\"\n"
   ]
  },
  {
   "cell_type": "code",
   "execution_count": 11,
   "id": "31a20707",
   "metadata": {},
   "outputs": [
    {
     "name": "stdout",
     "output_type": "stream",
     "text": [
      "✅ 10-K Report URL: https://www.sec.gov/Archives/edgar/data/1318605/000162828025003063/0001628280-25-003063-index-headers.html\n"
     ]
    }
   ],
   "source": [
    "import requests\n",
    "\n",
    "headers = {\n",
    "    \"User-Agent\": \"Avikshith Yelakonda avikshith@example.com\"\n",
    "}\n",
    "\n",
    "response = requests.get(doc_index_url, headers=headers)\n",
    "doc_data = response.json()\n",
    "\n",
    "files = doc_data['directory']['item']\n",
    "html_files = [f for f in files if f['name'].endswith('.htm') or f['name'].endswith('.html')]\n",
    "\n",
    "# Pick the first full HTML document (usually first one)\n",
    "report_file = html_files[0]['name']\n",
    "report_url = f\"https://www.sec.gov/Archives/edgar/data/{int(CIK)}/{accession_nodash}/{report_file}\"\n",
    "\n",
    "print(\"✅ 10-K Report URL:\", report_url)\n"
   ]
  },
  {
   "cell_type": "code",
   "execution_count": 8,
   "id": "f5bf6a1b",
   "metadata": {},
   "outputs": [
    {
     "name": "stderr",
     "output_type": "stream",
     "text": [
      "/var/folders/m3/rn3tl7v91fx0t431cn6k65lc0000gn/T/ipykernel_55523/2005774044.py:11: XMLParsedAsHTMLWarning: It looks like you're using an HTML parser to parse an XML document.\n",
      "\n",
      "Assuming this really is an XML document, what you're doing might work, but you should know that using an XML parser will be more reliable. To parse this document as XML, make sure you have the Python package 'lxml' installed, and pass the keyword argument `features=\"xml\"` into the BeautifulSoup constructor.\n",
      "\n",
      "If you want or need to use an HTML parser on this document, you can make this warning go away by filtering it. To do that, run this code before calling the BeautifulSoup constructor:\n",
      "\n",
      "    from bs4 import XMLParsedAsHTMLWarning\n",
      "    import warnings\n",
      "\n",
      "    warnings.filterwarnings(\"ignore\", category=XMLParsedAsHTMLWarning)\n",
      "\n",
      "  soup = BeautifulSoup(response.content, \"html.parser\")\n"
     ]
    }
   ],
   "source": [
    "from bs4 import BeautifulSoup\n",
    "import requests\n",
    "import re\n",
    "import pandas as pd\n",
    "\n",
    "# Use the final report URL from earlier step\n",
    "report_url = \"https://www.sec.gov/Archives/edgar/data/1318605/000162828025003063/tsla-20231231.htm\"\n",
    "headers = {\"User-Agent\": \"Avikshith Yelakonda avikshith@example.com\"}\n",
    "\n",
    "response = requests.get(report_url, headers=headers)\n",
    "soup = BeautifulSoup(response.content, \"html.parser\")\n",
    "\n",
    "# Extract all raw text\n",
    "raw_text = soup.get_text(separator=\"\\n\")\n"
   ]
  },
  {
   "cell_type": "code",
   "execution_count": 12,
   "id": "1a7cc7d1",
   "metadata": {},
   "outputs": [
    {
     "name": "stdout",
     "output_type": "stream",
     "text": [
      "✅ Extracted key financial sections from .txt and saved to CSV\n"
     ]
    }
   ],
   "source": [
    "# === New: Fetch plain text version of the 10-K ===\n",
    "txt_url = \"https://www.sec.gov/Archives/edgar/data/1318605/000162828025003063/tsla-20231231.txt\"\n",
    "\n",
    "response = requests.get(txt_url, headers=headers)\n",
    "text = response.text.replace('\\xa0', ' ')\n",
    "text = re.sub(r'\\s+', ' ', text)\n",
    "\n",
    "def extract_between(start, end, text):\n",
    "    pattern = re.compile(re.escape(start) + r\"(.*?)\" + re.escape(end), re.IGNORECASE | re.DOTALL)\n",
    "    match = pattern.search(text)\n",
    "    return match.group(1).strip() if match else f\"{start} NOT FOUND\"\n",
    "\n",
    "sections = {\n",
    "    \"Item 1. Business\": extract_between(\"Item 1.\", \"Item 1A.\", text),\n",
    "    \"Item 1A. Risk Factors\": extract_between(\"Item 1A.\", \"Item 1B.\", text),\n",
    "    \"Item 7. Management's Discussion\": extract_between(\"Item 7.\", \"Item 7A.\", text),\n",
    "    \"Item 8. Financial Statements\": extract_between(\"Item 8.\", \"Item 9.\", text),\n",
    "}\n",
    "\n",
    "# Save the sections to a CSV for further analysis\n",
    "df = pd.DataFrame(sections.items(), columns=[\"Section\", \"Content\"])\n",
    "df.to_csv(\"tesla_2024_financial_sections.csv\", index=False)\n",
    "print(\"✅ Extracted key financial sections from .txt and saved to CSV\")\n"
   ]
  },
  {
   "cell_type": "code",
   "execution_count": 13,
   "id": "32065c3a",
   "metadata": {},
   "outputs": [
    {
     "name": "stdout",
     "output_type": "stream",
     "text": [
      "✅ Sections extracted and saved to tesla_2024_financial_sections.csv\n"
     ]
    }
   ],
   "source": [
    "import requests\n",
    "import pandas as pd\n",
    "import re\n",
    "\n",
    "# Fetch plain text version of 10-K\n",
    "txt_url = \"https://www.sec.gov/Archives/edgar/data/1318605/000162828025003063/tsla-20231231.txt\"\n",
    "headers = {\"User-Agent\": \"Avikshith Yelakonda avikshith@example.com\"}\n",
    "\n",
    "response = requests.get(txt_url, headers=headers)\n",
    "lines = response.text.splitlines()\n",
    "\n",
    "# Clean and normalize lines\n",
    "cleaned_lines = [re.sub(r'\\s+', ' ', line).strip() for line in lines if line.strip()]\n",
    "\n",
    "# Map to hold section starts\n",
    "section_markers = {\n",
    "    \"Item 1.\": \"Item 1. Business\",\n",
    "    \"Item 1A.\": \"Item 1A. Risk Factors\",\n",
    "    \"Item 7.\": \"Item 7. Management's Discussion\",\n",
    "    \"Item 8.\": \"Item 8. Financial Statements\"\n",
    "}\n",
    "\n",
    "# Find the line numbers where each item starts\n",
    "section_indices = {}\n",
    "for idx, line in enumerate(cleaned_lines):\n",
    "    for key in section_markers.keys():\n",
    "        if line.upper().startswith(key.upper()) and key not in section_indices:\n",
    "            section_indices[key] = idx\n",
    "\n",
    "# Sort by order of appearance\n",
    "sorted_keys = sorted(section_indices.items(), key=lambda x: x[1])\n",
    "sorted_keys.append((\"EOF\", len(cleaned_lines)))  # Add end marker\n",
    "\n",
    "# Extract content between items\n",
    "sections = {}\n",
    "for i in range(len(sorted_keys) - 1):\n",
    "    start_key, start_idx = sorted_keys[i]\n",
    "    end_idx = sorted_keys[i + 1][1]\n",
    "    content = \"\\n\".join(cleaned_lines[start_idx:end_idx]).strip()\n",
    "    sections[section_markers[start_key]] = content\n",
    "\n",
    "# Save to CSV\n",
    "df = pd.DataFrame(sections.items(), columns=[\"Section\", \"Content\"])\n",
    "df.to_csv(\"tesla_2024_financial_sections.csv\", index=False)\n",
    "print(\"✅ Sections extracted and saved to tesla_2024_financial_sections.csv\")\n"
   ]
  },
  {
   "cell_type": "code",
   "execution_count": 15,
   "id": "811a553d",
   "metadata": {},
   "outputs": [
    {
     "name": "stdout",
     "output_type": "stream",
     "text": [
      "\n",
      "Preview of cleaned lines (first 100):\n",
      "001: <?xml version=\"1.0\" encoding=\"UTF-8\"?>\n",
      "002: <Error><Code>NoSuchKey</Code><Message>The specified key does not exist.</Message><Key>edgar/data/1318605/000162828025003063/tsla-20231231.txt</Key><RequestId>2A2VGPB65F84CN43</RequestId><HostId>GLPG/7yiRqEvrw5XErYWvf1K19/e2YP0f98c20k2hTbAgpWvUHc6EcpqarRKkaLjy+BavIR8EhRwtqooL9INQsqWuZF7NZKju0+8jGROFcQ=</HostId></Error>\n",
      "\n",
      "✅ Detected section indices:\n"
     ]
    }
   ],
   "source": [
    "import requests\n",
    "import pandas as pd\n",
    "import re\n",
    "\n",
    "# Step 1: Fetch the plain text 10-K report from SEC\n",
    "txt_url = \"https://www.sec.gov/Archives/edgar/data/1318605/000162828025003063/tsla-20231231.txt\"\n",
    "headers = {\"User-Agent\": \"Avikshith Yelakonda avikshith@example.com\"}\n",
    "\n",
    "response = requests.get(txt_url, headers=headers)\n",
    "lines = response.text.splitlines()\n",
    "\n",
    "# Step 2: Clean each line\n",
    "cleaned_lines = [re.sub(r'\\s+', ' ', line).strip() for line in lines if line.strip()]\n",
    "\n",
    "# Optional: Preview the first 100 lines to inspect structure\n",
    "print(\"\\nPreview of cleaned lines (first 100):\")\n",
    "for i, line in enumerate(cleaned_lines[:100]):\n",
    "    print(f\"{i+1:03d}: {line}\")\n",
    "\n",
    "# Step 3: Detect section headers using regex\n",
    "section_indices = {}\n",
    "for idx, line in enumerate(cleaned_lines):\n",
    "    line_upper = line.upper()\n",
    "    if re.match(r'^ITEM\\s+1\\.', line_upper) and \"Item 1.\" not in section_indices:\n",
    "        section_indices[\"Item 1.\"] = idx\n",
    "    elif re.match(r'^ITEM\\s+1A\\.', line_upper) and \"Item 1A.\" not in section_indices:\n",
    "        section_indices[\"Item 1A.\"] = idx\n",
    "    elif re.match(r'^ITEM\\s+7\\.', line_upper) and \"Item 7.\" not in section_indices:\n",
    "        section_indices[\"Item 7.\"] = idx\n",
    "    elif re.match(r'^ITEM\\s+8\\.', line_upper) and \"Item 8.\" not in section_indices:\n",
    "        section_indices[\"Item 8.\"] = idx\n",
    "\n",
    "# Step 4: Ensure sections were found\n",
    "print(\"\\n✅ Detected section indices:\")\n",
    "for k, v in section_indices.items():\n",
    "    print(f\"{k} found at line {v}\")\n",
    "\n",
    "# Step 5: Extract text between sections\n",
    "section_map = {\n",
    "    \"Item 1.\": \"Item 1. Business\",\n",
    "    \"Item 1A.\": \"Item 1A. Risk Factors\",\n",
    "    \"Item 7.\": \"Item 7. Management's Discussion\",\n",
    "    \"Item 8.\": \"Item 8. Financial Statements\"\n",
    "}\n",
    "\n",
    "sorted_keys = sorted(section_indices.items(), key=lambda x: x[1])\n",
    "sorted_keys.append((\"EOF\", len(cleaned_lines)))  # artificial end\n",
    "\n",
    "sections = {}\n",
    "for i in range(len(sorted_keys) - 1):\n",
    "    start_key, start_idx = sorted_keys[i]\n",
    "    end_idx = sorted_keys[i + 1][1]\n",
    "    section_name = section_map[start_key]\n",
    "    content = \"\\n\".join(cleaned_lines[start_idx:end_idx]).str_\n"
   ]
  }
 ],
 "metadata": {
  "kernelspec": {
   "display_name": "Python 3",
   "language": "python",
   "name": "python3"
  },
  "language_info": {
   "codemirror_mode": {
    "name": "ipython",
    "version": 3
   },
   "file_extension": ".py",
   "mimetype": "text/x-python",
   "name": "python",
   "nbconvert_exporter": "python",
   "pygments_lexer": "ipython3",
   "version": "3.12.9"
  }
 },
 "nbformat": 4,
 "nbformat_minor": 5
}
